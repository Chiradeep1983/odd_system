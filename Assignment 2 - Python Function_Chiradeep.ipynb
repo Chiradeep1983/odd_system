{
 "cells": [
  {
   "cell_type": "markdown",
   "metadata": {},
   "source": [
    "## Problem Statement"
   ]
  },
  {
   "cell_type": "markdown",
   "metadata": {},
   "source": [
    "Q.1 Write a Python Program to implement your own myreduce() function which works exactly like\n",
    "Python's built-in function reduce()\n"
   ]
  },
  {
   "cell_type": "code",
   "execution_count": 2,
   "metadata": {},
   "outputs": [
    {
     "data": {
      "text/plain": [
       "10395"
      ]
     },
     "execution_count": 2,
     "metadata": {},
     "output_type": "execute_result"
    }
   ],
   "source": [
    "#defining sum as a function\n",
    "def mulx(x,y):\n",
    "    return x*y\n",
    "# creating a reduce function, funct represents the function like sum, division, minus or other operandi\n",
    "def myreduce (funct,samplelist):\n",
    "    result = samplelist[0]\n",
    "#we need the iteration for the entire list    \n",
    "    for item in mylist[1:]:\n",
    "        result = funct (result,item)\n",
    "    return result\n",
    "\n",
    "mylist= [1,3,7,5,9,11]\n",
    "\n",
    "myreduce(mulx,mylist)\n",
    "\n"
   ]
  },
  {
   "cell_type": "markdown",
   "metadata": {},
   "source": [
    "Q.2 Write a Python program to implement your own myfilter() function which works exactly like\n",
    "Python's built-in function filter()"
   ]
  },
  {
   "cell_type": "code",
   "execution_count": 40,
   "metadata": {},
   "outputs": [
    {
     "name": "stdout",
     "output_type": "stream",
     "text": [
      "7\n"
     ]
    }
   ],
   "source": [
    "#Custom filter function \n",
    "\n",
    "    \n",
    "def myfilter(func, my_list):\n",
    "# iterate over sequence of items in sequence and apply filter function\n",
    "    for i in my_list:\n",
    "        if i> 5:\n",
    "            print(i)\n",
    "        \n",
    "        \n",
    "\n",
    "l1=[1,2,3,4,5,7]\n",
    "myfilter(func,l1)\n"
   ]
  },
  {
   "cell_type": "markdown",
   "metadata": {},
   "source": [
    "Q.3 Implement List comprehensions to produce the following lists.\n",
    "   Write List comprehensions to produce the following Lists\n",
    "   \n",
    "    ['A', 'C', 'A', 'D', 'G', 'I', ’L’, ‘ D’]\n",
    "   \n",
    "    ['x', 'xx', 'xxx', 'xxxx', 'y', 'yy', 'yyy', 'yyyy', 'z', 'zz', 'zzz', 'zzzz']\n",
    "\n",
    "    ['x', 'y', 'z', 'xx', 'yy', 'zz', 'xx', 'yy', 'zz', 'xxxx', 'yyyy', 'zzzz']\n",
    "    \n",
    "    [[2], [3], [4], [3], [4], [5], [4], [5], [6]]\n",
    "\n",
    "    [[2, 3, 4, 5], [3, 4, 5, 6], [4, 5, 6, 7], [5, 6, 7, 8]]\n",
    "\n",
    "    [(1, 1), (2, 1), (3, 1), (1, 2), (2, 2), (3, 2), (1, 3), (2, 3), (3, 3)]"
   ]
  },
  {
   "cell_type": "code",
   "execution_count": 26,
   "metadata": {},
   "outputs": [
    {
     "name": "stdout",
     "output_type": "stream",
     "text": [
      "['A', 'C', 'A', 'D', 'G', 'I', 'L', 'D']\n",
      "['x', 'xx', 'xxx', 'xxxx', 'y', 'yy', 'yyy', 'yyyy', 'z', 'zz', 'zzz', 'zzzz']\n",
      "['x', 'y', 'z', 'xx', 'yy', 'zz', 'xxx', 'yyy', 'zzz', 'xxxx', 'yyyy', 'zzzz']\n",
      "[[2], [3], [4], [3], [4], [5], [4], [5], [6]]\n",
      "[[2, 3, 4, 5], [3, 4, 5, 6], [4, 5, 6, 7], [5, 6, 7, 8]]\n",
      "[(1, 1), (1, 2), (1, 3), (2, 1), (2, 2), (2, 3), (3, 1), (3, 2), (3, 3)]\n"
     ]
    }
   ],
   "source": [
    "#1 expected Output - ['A', 'C', 'A', 'D', 'G', 'I', ’L’, ‘ D’]\n",
    "newlist1=[i for i in 'ACADGILD']\n",
    "print (newlist1)\n",
    "#2 expected Output - ['x', 'xx', 'xxx', 'xxxx', 'y', 'yy', 'yyy', 'yyyy', 'z', 'zz', 'zzz', 'zzzz']\n",
    "newlist2=[i*n for i in 'xyz' for n in range(1,5)]\n",
    "print (newlist2)\n",
    "#3 expected Output - ['x', 'y', 'z', 'xx', 'yy', 'zz', 'xx', 'yy', 'zz', 'xxxx', 'yyyy', 'zzzz']\n",
    "newlist3=[n*i for n in range(1,5)  for i in 'xyz']\n",
    "print(newlist3)\n",
    "#4 expected Output - [[2], [3], [4], [3], [4], [5], [4], [5], [6]]\n",
    "newlist4=[[i+n] for i in [2,3,4] for n in range (0,3)]\n",
    "print(newlist4)\n",
    "#5 expected Output - [[2, 3, 4, 5], [3, 4, 5, 6], [4, 5, 6, 7], [5, 6, 7, 8]]\n",
    "newlist5 = [ [i+n for i in [2,3,4,5]] for n in range(0,4)]\n",
    "print (newlist5)\n",
    "#6 expected Output -  [(1, 1), (2, 1), (3, 1), (1, 2), (2, 2), (3, 2), (1, 3), (2, 3), (3, 3)]\n",
    "newlist6=[(i,j)for i in range(1,4) for j in range(1,4)]\n",
    "print(newlist6)"
   ]
  },
  {
   "cell_type": "markdown",
   "metadata": {},
   "source": [
    "Q.4 Implement a function longestWord() that takes a list of words and returns the longest one."
   ]
  },
  {
   "cell_type": "code",
   "execution_count": 25,
   "metadata": {},
   "outputs": [
    {
     "name": "stdout",
     "output_type": "stream",
     "text": [
      "love\n"
     ]
    }
   ],
   "source": [
    "#creating a dummmy list\n",
    "l=['i', 'love', 'u']\n",
    "\n",
    "#creating function to find longest word\n",
    "def longestWord(l):\n",
    "#creating a empty list l2\n",
    "    l2=[]\n",
    "#iteratng every items from list 'l'    \n",
    "    for i in l:\n",
    "#appending the empty list l2\n",
    "        l2.append(((len(i)),i))\n",
    "        l2.sort(reverse=True)\n",
    "    return (print(l2[0][1]))\n",
    "\n",
    "\n",
    "    \n",
    "longestWord(l)\n",
    "\n",
    "\n",
    "    \n"
   ]
  },
  {
   "cell_type": "markdown",
   "metadata": {},
   "source": [
    "Q.5 Write a Python Program(with class concepts) to find the area of the triangle using the below\n",
    "formula.\n",
    "\n",
    "area = (s*(s-a)*(s-b)*(s-c)) ** 0.5\n",
    "\n",
    "Function to take the length of the sides of triangle from user should be defined in the parent\n",
    "class and function to calculate the area should be defined in subclass."
   ]
  },
  {
   "cell_type": "code",
   "execution_count": 24,
   "metadata": {},
   "outputs": [
    {
     "name": "stdout",
     "output_type": "stream",
     "text": [
      "area : 3.897114317029974\n"
     ]
    }
   ],
   "source": [
    "class Triangle:\n",
    " \n",
    "    def __init__(self,a,b,c):\n",
    "        self.a = float(a)\n",
    "        self.b = float(b)\n",
    "        self.c = float(c)\n",
    " \n",
    "    def area(self):\n",
    "        s=int(self.a + self.b + self.c)/2\n",
    "        return((s*(s-self.a)*(s-self.b)*(s-self.c))**0.5)\n",
    " \n",
    "\n",
    "t = Triangle(3, 3, 3)\n",
    "print(\"area : {}\".format(t.area()))"
   ]
  },
  {
   "cell_type": "markdown",
   "metadata": {},
   "source": [
    "Q.6 Write a function filter_long_words() that takes a list of words and an integer n and returns the list\n",
    "of words that are longer than n."
   ]
  },
  {
   "cell_type": "code",
   "execution_count": 77,
   "metadata": {},
   "outputs": [
    {
     "name": "stdout",
     "output_type": "stream",
     "text": [
      "rose\n",
      "titanic\n"
     ]
    }
   ],
   "source": [
    "x=['ram','rose','titanic',3]\n",
    "\n",
    "#creating the function    \n",
    "def filter_long_words(self,):\n",
    "    #separate word from the mix list\n",
    "    x2= [num for num in x if not isinstance(num, int)]\n",
    "    #separate int as num\n",
    "    num=[num for num in x if isinstance(num, int)]\n",
    "    #iterating for every word in x2\n",
    "    z=[]\n",
    "    for i in x2:\n",
    "        #convert it to length of the word so that it will be easy to compare\n",
    "        z=[len(i)]\n",
    "        for j in z:\n",
    "            if j>num[0]:\n",
    "            #print words which are lengthier than integer from list \n",
    "                print (i)\n",
    "            \n",
    "            \n",
    "                \n",
    "          \n",
    "        \n",
    "\n",
    "filter_long_words(x)\n",
    "    "
   ]
  },
  {
   "cell_type": "markdown",
   "metadata": {},
   "source": [
    "Q.7 Write a Python program using function concept that maps list of words into a list of integers\n",
    "representing the lengths of the corresponding words.\n",
    "    \n",
    "    Hint: If a list [ ab,cde,erty] is passed on to the python function output should come as [2,3,4]\n",
    "    Here 2,3 and 4 are the lengths of the words in the list."
   ]
  },
  {
   "cell_type": "code",
   "execution_count": 18,
   "metadata": {},
   "outputs": [
    {
     "name": "stdout",
     "output_type": "stream",
     "text": [
      "[3, 4, 7]\n"
     ]
    }
   ],
   "source": [
    "x1=['ram','rose','titanic']\n",
    "def length_word(x1):\n",
    "    output=[]\n",
    "    for i in x1:\n",
    "        output.append(len(i))\n",
    "    print (output)\n",
    "length_word(x1)"
   ]
  },
  {
   "cell_type": "markdown",
   "metadata": {},
   "source": [
    "Q.8 Write a Python function which takes a character (i.e. a string of length 1) and returns True if it is\n",
    "a vowel, False otherwise."
   ]
  },
  {
   "cell_type": "code",
   "execution_count": 16,
   "metadata": {},
   "outputs": [
    {
     "name": "stdout",
     "output_type": "stream",
     "text": [
      "True\n"
     ]
    }
   ],
   "source": [
    "\n",
    "def vowel_list(str):\n",
    "    vowel='aeiouAEIOU'\n",
    "    if len(str)!=1:\n",
    "        print (\"length of the word is more than unity\")\n",
    "    else:\n",
    "        if str in vowel:\n",
    "            print ('True')\n",
    "        else:\n",
    "            print('False')\n",
    "    \n",
    "        \n",
    "       \n",
    "vowel_list('i')"
   ]
  },
  {
   "cell_type": "code",
   "execution_count": 17,
   "metadata": {},
   "outputs": [
    {
     "name": "stdout",
     "output_type": "stream",
     "text": [
      " i love is not a vowel\n"
     ]
    }
   ],
   "source": [
    "def check_vowel(char):\n",
    "    check=\"aeiou\" #already characters will be in lower case so no need of \"AEIOU\"\n",
    "    if char in check:\n",
    "        print(char ,\"is vowel\")\n",
    "    else:\n",
    "        print(char ,\"is not a vowel\")\n",
    "        \n",
    "check_vowel(' i love')\n"
   ]
  },
  {
   "cell_type": "markdown",
   "metadata": {},
   "source": [
    "# Great job!"
   ]
  }
 ],
 "metadata": {
  "kernelspec": {
   "display_name": "Python 3",
   "language": "python",
   "name": "python3"
  },
  "language_info": {
   "codemirror_mode": {
    "name": "ipython",
    "version": 3
   },
   "file_extension": ".py",
   "mimetype": "text/x-python",
   "name": "python",
   "nbconvert_exporter": "python",
   "pygments_lexer": "ipython3",
   "version": "3.7.3"
  }
 },
 "nbformat": 4,
 "nbformat_minor": 2
}
